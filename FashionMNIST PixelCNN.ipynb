{
 "cells": [
  {
   "cell_type": "markdown",
   "id": "8100eb3e-7376-42a8-b701-95aa0db95f71",
   "metadata": {},
   "source": [
    "# Import Libraries"
   ]
  },
  {
   "cell_type": "code",
   "execution_count": null,
   "id": "a40135c9-1ede-494d-983c-d183342a8515",
   "metadata": {},
   "outputs": [],
   "source": [
    "import os\n",
    "os.environ['TF_CPP_MIN_LOG_LEVEL'] = '3'\n",
    "\n",
    "import pandas as pd\n",
    "import numpy as np\n",
    "import matplotlib.pyplot as plt\n",
    "\n",
    "import tensorflow as tf\n",
    "import tensorflow_probability as tfp\n",
    "from tensorflow.keras import layers, models, optimizers, callbacks\n",
    "from tensorflow.keras.datasets import fashion_mnist\n",
    "from tensorflow.keras.utils import plot_model\n",
    "\n",
    "from IPython import display"
   ]
  },
  {
   "cell_type": "markdown",
   "id": "b48f9285-ba4b-43e9-b790-c654e82811ad",
   "metadata": {},
   "source": [
    "# Load Data"
   ]
  },
  {
   "cell_type": "code",
   "execution_count": null,
   "id": "3a329f1e-07df-44d8-b883-e8dc5a33cd8a",
   "metadata": {},
   "outputs": [],
   "source": [
    "(train_data, train_labels), (test_data, test_labels) = fashion_mnist.load_data()"
   ]
  },
  {
   "cell_type": "code",
   "execution_count": null,
   "id": "4766ca4f-d9bd-4aa1-bc1e-9799fa76a00e",
   "metadata": {},
   "outputs": [],
   "source": [
    "train_data = np.where(train_data < (0.33 * 256), 0, 1)\n",
    "train_data = train_data.astype(np.float32)"
   ]
  },
  {
   "cell_type": "code",
   "execution_count": null,
   "id": "c676831d-cf71-41d1-a2d3-fd6cfc9d7f0c",
   "metadata": {},
   "outputs": [],
   "source": [
    "test_data = np.where(test_data < (0.33 * 256), 0, 1)\n",
    "test_data = test_data.astype(np.float32)"
   ]
  },
  {
   "cell_type": "markdown",
   "id": "cd3b0848-b0f9-419c-b43f-24dfb9064a1a",
   "metadata": {},
   "source": [
    "# Model"
   ]
  },
  {
   "cell_type": "code",
   "execution_count": null,
   "id": "e53c2d24-5850-4b30-9397-19459a971e46",
   "metadata": {},
   "outputs": [],
   "source": [
    "NUM_CLASSES = 10\n",
    "BATCH_SIZE = 128\n",
    "EPOCHS = 50\n",
    "LEARNING_RATE = 0.0005\n",
    "IMAGE_SIZE = 28"
   ]
  },
  {
   "cell_type": "code",
   "execution_count": null,
   "id": "77188031-c181-47d7-b33b-029c7871356d",
   "metadata": {},
   "outputs": [],
   "source": [
    "dist = tfp.distributions.PixelCNN(\n",
    "    image_shape=(32, 32, 1),\n",
    "    num_resnet=1,\n",
    "    num_hierarchies=2,\n",
    "    num_filters=32,\n",
    "    num_logistic_mix=5,\n",
    "    dropout_p=0.3,\n",
    ")\n",
    "input_layer = layers.Input(shape=(32, 32, 1))\n",
    "log_prob = dist.log_prob(input_layer)\n",
    "model = models.Model(inputs=input_layer, outputs=log_prob)\n",
    "model.add_loss(-tf.reduce_mean(log_prob))\n",
    "model.compile(optimizer=optimizers.Adam(learning_rate=LEARNING_RATE))"
   ]
  },
  {
   "cell_type": "code",
   "execution_count": null,
   "id": "da97711d-adaa-4a99-9821-a51cefb775b7",
   "metadata": {},
   "outputs": [],
   "source": [
    "model.summary()"
   ]
  },
  {
   "cell_type": "code",
   "execution_count": null,
   "id": "22ce8d57-9c39-46b2-a472-c6004498d412",
   "metadata": {},
   "outputs": [],
   "source": [
    "plot_model(model, show_layer_names=True, show_shapes=True, expand_nested=True)"
   ]
  },
  {
   "cell_type": "markdown",
   "id": "3663eba4-696f-41e7-a5ab-ccfeef0edd94",
   "metadata": {},
   "source": [
    "# Train"
   ]
  },
  {
   "cell_type": "code",
   "execution_count": null,
   "id": "8386e95d-5fca-4b05-a285-be2ce28c42e6",
   "metadata": {},
   "outputs": [],
   "source": [
    "tensorboard_callback = callbacks.TensorBoard(log_dir='./logs')"
   ]
  },
  {
   "cell_type": "code",
   "execution_count": null,
   "id": "7896ed59-668b-4c1c-abb5-5a5b41b789de",
   "metadata": {},
   "outputs": [],
   "source": [
    "history = model.fit(\n",
    "    train_data, train_data,\n",
    "    batch_size=BATCH_SIZE,\n",
    "    epochs=EPOCHS,\n",
    "    validation_data=[test_data, test_data],\n",
    "    callbacks=[tensorboard_callback]\n",
    ")"
   ]
  },
  {
   "cell_type": "markdown",
   "id": "e795a5bd-2fce-4b4f-b6a7-0033cf4b2864",
   "metadata": {},
   "source": [
    "# Results"
   ]
  },
  {
   "cell_type": "code",
   "execution_count": null,
   "id": "cbd6af28-a8f7-4643-9586-76db75a3ca60",
   "metadata": {},
   "outputs": [],
   "source": [
    "history_df = pd.DataFrame(history.history)\n",
    "history_df.head()"
   ]
  },
  {
   "cell_type": "code",
   "execution_count": null,
   "id": "a61f9790-738e-42c4-85e6-12b0646d4591",
   "metadata": {},
   "outputs": [],
   "source": [
    "plt.figure()\n",
    "plt.plot(history.history[\"loss\"])\n",
    "plt.plot(history.history[\"val_loss\"])\n",
    "plt.xlabel(\"Epoch\")\n",
    "plt.ylabel(\"Loss\")\n",
    "plt.legend([\"train\", \"valid\"])\n",
    "plt.title(\"Loss Curve\")\n",
    "plt.show()"
   ]
  },
  {
   "cell_type": "markdown",
   "id": "8c9c95b1-0fde-4b23-a798-08781ac87e8a",
   "metadata": {},
   "source": [
    "# Generate"
   ]
  },
  {
   "cell_type": "code",
   "execution_count": null,
   "id": "6a7eefd1-9113-49dd-9d88-ad85061021f3",
   "metadata": {},
   "outputs": [],
   "source": [
    "def generate_and_plot_images(batch=8):\n",
    "    pixels = np.zeros(shape=(batch,) + (model.input_shape)[1:])\n",
    "    batch, rows, cols, channels = pixels.shape\n",
    "\n",
    "    for row in range(rows):\n",
    "        for col in range(cols):\n",
    "            for channel in range(channels):\n",
    "                probs = model.predict(pixels, verbose=0)[:, row, col, channel]\n",
    "                probs /= np.sum(probs, axis=-1, keepdims=True)\n",
    "                r = np.random.choice(len(probs[0]), size=batch, p=probs[0])\n",
    "                pixels[:, row, col, channel] = r / 4\n",
    "\n",
    "    fig, ax = plt.subplots(1, batch, figsize=(12, 12))\n",
    "    for i, pixel in enumerate(pixels):\n",
    "        x = np.squeeze(pixel, -1)\n",
    "        x = np.stack((x, x, x), axis=2) * 255\n",
    "        x = np.clip(x, 0, 255).astype('uint8')\n",
    "        ax[i].imshow(x, cmap='gray')\n",
    "        ax[i].axis('off')\n",
    "\n",
    "    plt.show()"
   ]
  },
  {
   "cell_type": "code",
   "execution_count": null,
   "id": "5ec24e3c-484b-48b4-962a-f7542fb26465",
   "metadata": {},
   "outputs": [],
   "source": [
    "generate_and_plot_images(batch=8)"
   ]
  },
  {
   "cell_type": "code",
   "execution_count": null,
   "id": "190394f6-9399-4264-ac7e-d617e73c6f68",
   "metadata": {},
   "outputs": [],
   "source": []
  },
  {
   "cell_type": "code",
   "execution_count": null,
   "id": "0c9fec51-c35a-4121-86ea-3a341c57a79f",
   "metadata": {},
   "outputs": [],
   "source": []
  },
  {
   "cell_type": "code",
   "execution_count": null,
   "id": "855cc7a8-13a4-425d-bfb1-b82064acd319",
   "metadata": {},
   "outputs": [],
   "source": []
  }
 ],
 "metadata": {
  "kernelspec": {
   "display_name": "Python 3 (ipykernel)",
   "language": "python",
   "name": "python3"
  },
  "language_info": {
   "codemirror_mode": {
    "name": "ipython",
    "version": 3
   },
   "file_extension": ".py",
   "mimetype": "text/x-python",
   "name": "python",
   "nbconvert_exporter": "python",
   "pygments_lexer": "ipython3",
   "version": "3.10.12"
  }
 },
 "nbformat": 4,
 "nbformat_minor": 5
}
